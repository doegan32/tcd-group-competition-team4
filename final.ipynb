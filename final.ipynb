{
 "cells": [
  {
   "cell_type": "markdown",
   "metadata": {},
   "source": [
    "# TCD ML Comp. 2019/20 - Income Pred. (Group)"
   ]
  },
  {
   "cell_type": "markdown",
   "metadata": {},
   "source": [
    "## Team4"
   ]
  },
  {
   "cell_type": "markdown",
   "metadata": {},
   "source": [
    "#### import necessary libraries"
   ]
  },
  {
   "cell_type": "code",
   "execution_count": 1,
   "metadata": {},
   "outputs": [],
   "source": [
    "import pandas as pd\n",
    "import numpy as np\n",
    "from sklearn.model_selection import train_test_split, GridSearchCV\n",
    "import sys\n",
    "import lightgbm as lgb\n",
    "from sklearn.compose import TransformedTargetRegressor\n",
    "from sklearn.metrics import mean_absolute_error\n",
    "from sklearn.compose import ColumnTransformer\n",
    "from category_encoders import TargetEncoder\n",
    "from sklearn.impute import SimpleImputer\n",
    "from sklearn.preprocessing import OneHotEncoder, StandardScaler, FunctionTransformer, MinMaxScaler, LabelEncoder\n",
    "from sklearn.pipeline import Pipeline"
   ]
  },
  {
   "cell_type": "markdown",
   "metadata": {},
   "source": [
    "#### functions for reading in and processing data"
   ]
  },
  {
   "cell_type": "code",
   "execution_count": 2,
   "metadata": {},
   "outputs": [],
   "source": [
    "def input_data(fileName, printInfo = False):\n",
    "    dataFrame = pd.read_csv(fileName, low_memory = False)\n",
    "    \n",
    "    if printInfo:\n",
    "        m, n = dataFrame.shape\n",
    "        print('Number of instances: %d\\nNumber of freatues: %d\\n' %(m,n))\n",
    "        print(dataFrame.info())\n",
    "        \n",
    "    return dataFrame"
   ]
  },
  {
   "cell_type": "code",
   "execution_count": 3,
   "metadata": {},
   "outputs": [],
   "source": [
    "def rename_columns(dataFrame):\n",
    "    \"\"\"function to make column names simpler\"\"\"\n",
    "    \n",
    "    columns = {'Instance' : 'instance',\n",
    "               'Year of Record' : 'year',\n",
    "               'Housing Situation' : 'housing',\n",
    "               'Crime Level in the City of Employement' : 'crime',\n",
    "               'Work Experience in Current Job [years]' : 'experience',\n",
    "               'Satisfation with employer' : 'satisfaction',\n",
    "               'Gender' : 'gender',\n",
    "               'Age': 'age',\n",
    "               'Country' : 'country',\n",
    "               'Size of City' : 'city',\n",
    "               'Profession' : 'profession',\n",
    "               'University Degree' : 'education',\n",
    "               'Wears Glasses' : 'glasses',\n",
    "               'Hair Color' : 'hair',\n",
    "               'Body Height [cm]' : 'height',\n",
    "               'Yearly Income in addition to Salary (e.g. Rental Income)' : 'additional',\n",
    "               'Total Yearly Income [EUR]' : 'Y'}\n",
    "    \n",
    "    dataFrame.rename(columns = columns, inplace = True)"
   ]
  },
  {
   "cell_type": "code",
   "execution_count": 4,
   "metadata": {},
   "outputs": [],
   "source": [
    "def split_data(dataFrame, test_size = 0.05, random_state = 42):\n",
    "    train_set, test_set = train_test_split(dataFrame, test_size = test_size, random_state = random_state)\n",
    "    \n",
    "    mtrain, ntrain = train_set.shape\n",
    "    mtest, ntest = test_set.shape\n",
    "    \n",
    "    print('Number of instances in training set: %d\\nNumber of instances in test set: %d\\n' %(mtrain, mtest))\n",
    "\n",
    "    return train_set, test_set"
   ]
  },
  {
   "cell_type": "code",
   "execution_count": 5,
   "metadata": {},
   "outputs": [],
   "source": [
    "def preprocess(data, training = False, labelled = False, printDetails = False):\n",
    "    \n",
    "    data = data.copy()\n",
    "    mOriginal, nOriginal = data.shape\n",
    "    data.drop([\"instance\"], axis = 1, inplace = True)\n",
    "    \n",
    "    if training: #drop duplicated from training data\n",
    "        data.drop_duplicates(keep = 'first', inplace = True)\n",
    "        m1, n1 = data.shape\n",
    "        print(\"Number of duplicates dropped: %d\\nNumber of instances after dropping dupicated: %d\\n\" %(mOriginal - m1, m1))\n",
    "    \n",
    "    \n",
    "    #experience - convert to float\n",
    "    data['experience'].replace(to_replace = {'#NUM!' : 0}, inplace = True)\n",
    "    data['experience'] = data['experience'].astype(np.float64, copy = False)\n",
    "    \n",
    "    \n",
    "    #additional income - remove it and save a copy so as to add to predictions.\n",
    "    data['additional'] = data['additional'].str.rstrip(' EUR').astype(np.float64, copy = False)\n",
    "    additional_income = data['additional'].copy()\n",
    "    if labelled:\n",
    "        data['Y'] = data['Y'] - data['additional']\n",
    "    data['add_indicator'] = (data['additional'] > 0).astype(np.int64, copy = False)\n",
    "    data.drop([\"additional\"], axis = 1, inplace = True)\n",
    "    \n",
    "    \n",
    "    #hair - originally combined several hair categories but ultimately dropped hair as a feature.\n",
    "    #data['hair'].replace(to_replace = {'0': 1, 'Black' : 0,'Brown' : 0, 'Blond' : 0, 'Red' : 0, 'Unknown' : 0}, inplace = True)\n",
    "    data.drop(['hair'], axis = 1, inplace = True)\n",
    "    \n",
    "    \n",
    "    #dropped data\n",
    "    data.drop(['glasses'], axis = 1, inplace = True)\n",
    "    \n",
    "    return data, additional_income"
   ]
  },
  {
   "cell_type": "markdown",
   "metadata": {},
   "source": [
    "#### construct pipeline - one pipeline per feature and then combine at end to form complete pipeline"
   ]
  },
  {
   "cell_type": "code",
   "execution_count": 6,
   "metadata": {},
   "outputs": [],
   "source": [
    "year_pipeline = Pipeline([\n",
    "    ('imputerYear1', SimpleImputer(strategy = \"median\")),\n",
    "    ('ScalerYear', MinMaxScaler())\n",
    "])"
   ]
  },
  {
   "cell_type": "code",
   "execution_count": 7,
   "metadata": {},
   "outputs": [],
   "source": [
    "housing_pipeline = Pipeline([\n",
    "    ('imputerH1', SimpleImputer(strategy = 'constant', fill_value = 'missing')),\n",
    "    ('imputerH2', SimpleImputer(missing_values = 'nA', strategy = 'constant', fill_value = 'missing')),\n",
    "    ('imputerH3', SimpleImputer(missing_values = '0', strategy = 'constant', fill_value = 'zero')),\n",
    "    ('imputerH4', SimpleImputer(missing_values = 0, strategy = 'constant', fill_value = 'zero')),\n",
    "    ('oneHotEncoderH', OneHotEncoder(handle_unknown = 'ignore'))\n",
    "])"
   ]
  },
  {
   "cell_type": "code",
   "execution_count": 8,
   "metadata": {},
   "outputs": [],
   "source": [
    "crime_pipeline = Pipeline([\n",
    "    ('imputerCrime', SimpleImputer(strategy = 'median')),\n",
    "    ('ScalerCrime', MinMaxScaler())  \n",
    "])"
   ]
  },
  {
   "cell_type": "code",
   "execution_count": 9,
   "metadata": {},
   "outputs": [],
   "source": [
    "experience_pipeline = Pipeline([\n",
    "    ('imputerExperience1', SimpleImputer(strategy = 'median')),\n",
    "    ('ScalerExperience', MinMaxScaler())  \n",
    "])"
   ]
  },
  {
   "cell_type": "code",
   "execution_count": 10,
   "metadata": {},
   "outputs": [],
   "source": [
    "satisfaction_pipeline = Pipeline([\n",
    "    ('inputerS1', SimpleImputer(strategy = 'constant', fill_value = 'missing')),\n",
    "    ('oneHotEncoderS', OneHotEncoder(handle_unknown = 'ignore'))\n",
    "])"
   ]
  },
  {
   "cell_type": "code",
   "execution_count": 11,
   "metadata": {},
   "outputs": [],
   "source": [
    "#need to check if better to set 'unknown' to 'other'\n",
    "gender_pipeline = Pipeline([\n",
    "    ('imputerGender1', SimpleImputer(strategy = 'constant', fill_value = 'missing')),\n",
    "    ('imputerGender2', SimpleImputer(missing_values = '0', strategy = 'constant', fill_value = 'zero')),\n",
    "    ('imputerGender3', SimpleImputer(missing_values = 'unknown', strategy = 'constant', fill_value = 'other')),\n",
    "    ('imputerGender4', SimpleImputer(missing_values = 'f', strategy = 'constant', fill_value = 'female')),\n",
    "    ('imputerGender5', SimpleImputer(missing_values = 'm', strategy = 'constant', fill_value = 'male')),\n",
    "    ('oneHotEncoderGender', OneHotEncoder(handle_unknown = 'ignore'))\n",
    "    ])"
   ]
  },
  {
   "cell_type": "code",
   "execution_count": 12,
   "metadata": {},
   "outputs": [],
   "source": [
    "age_pipeline = Pipeline([\n",
    "    ('imputerAge1', SimpleImputer(strategy = \"median\")),\n",
    "    ('ScalerAge', MinMaxScaler())  \n",
    "])"
   ]
  },
  {
   "cell_type": "code",
   "execution_count": 13,
   "metadata": {},
   "outputs": [],
   "source": [
    "country_pipeline = Pipeline([\n",
    "    ('imputerCountry1', SimpleImputer(strategy = 'constant', fill_value = 'unknown')),\n",
    "    ('oneHotEncoderCountry', OneHotEncoder(handle_unknown = 'ignore'))\n",
    "])"
   ]
  },
  {
   "cell_type": "code",
   "execution_count": 14,
   "metadata": {},
   "outputs": [],
   "source": [
    "city_pipeline = Pipeline([\n",
    "    ('imputerCity1', SimpleImputer(strategy = 'median')),\n",
    "    ('ScalerCity', StandardScaler())\n",
    "])"
   ]
  },
  {
   "cell_type": "code",
   "execution_count": 15,
   "metadata": {},
   "outputs": [],
   "source": [
    "profession_pipeline = Pipeline([\n",
    "    ('inputerP1', SimpleImputer(strategy = 'constant', fill_value = 'unknown')),\n",
    "    ('inputerP2', SimpleImputer(missing_values = 'Somewhat Happy', strategy = 'constant', fill_value = 'Happy')),\n",
    "    ('targetEncoderP', TargetEncoder()),\n",
    "    ('ScalerProfession', StandardScaler())\n",
    "])"
   ]
  },
  {
   "cell_type": "code",
   "execution_count": 16,
   "metadata": {},
   "outputs": [],
   "source": [
    "education_pipeline = Pipeline([\n",
    "    ('imputerEducation1', SimpleImputer(strategy = 'constant', fill_value = 'missing')),\n",
    "    ('imputerEducation2', SimpleImputer(missing_values = '0', strategy = 'constant', fill_value = 'Zero')),\n",
    "    ('oneHotEncoderEducation', OneHotEncoder(handle_unknown = 'ignore'))\n",
    "])"
   ]
  },
  {
   "cell_type": "code",
   "execution_count": 17,
   "metadata": {},
   "outputs": [],
   "source": [
    "hair_pipeline = Pipeline([\n",
    "    ('imputerHair1', SimpleImputer(strategy = 'constant', fill_value = 0))\n",
    "])"
   ]
  },
  {
   "cell_type": "code",
   "execution_count": 18,
   "metadata": {},
   "outputs": [],
   "source": [
    "height_pipeline = Pipeline([\n",
    "    ('imputerHeight1', SimpleImputer(strategy = \"median\")),\n",
    "    ('ScalerAge', MinMaxScaler())  \n",
    "])"
   ]
  },
  {
   "cell_type": "code",
   "execution_count": 19,
   "metadata": {},
   "outputs": [],
   "source": [
    "add_indicator_pipeline = Pipeline([\n",
    "    ('imputerAdd_ind1', SimpleImputer(strategy = 'constant', fill_value = 0))\n",
    "])"
   ]
  },
  {
   "cell_type": "code",
   "execution_count": 20,
   "metadata": {},
   "outputs": [],
   "source": [
    "#combine above pipelines for form final pipeline\n",
    "full_pipeline = ColumnTransformer([  \n",
    "    ('year_pipeline', year_pipeline, ['year']),\n",
    "    ('housing_pipeline', housing_pipeline, ['housing']),\n",
    "    ('crime_pipeline', crime_pipeline, ['crime']),\n",
    "    ('experience_pipeline', experience_pipeline, ['experience']),\n",
    "    ('satisfaction_pipeline', satisfaction_pipeline, ['satisfaction']),\n",
    "    ('gender_pipeline', gender_pipeline, ['gender']),\n",
    "    ('age_pipeline', age_pipeline, ['age']),\n",
    "    ('country_pipeline', country_pipeline, ['country']),\n",
    "    ('city_pipeline', city_pipeline, ['city']),\n",
    "    ('profession_pipeline', profession_pipeline, ['profession']),\n",
    "    ('education_pipeline', education_pipeline, ['education']),\n",
    "    ('height_pipeline', height_pipeline, ['height']),\n",
    "    ('add_indicator_pipeline', add_indicator_pipeline, ['add_indicator'])\n",
    "])"
   ]
  },
  {
   "cell_type": "markdown",
   "metadata": {},
   "source": [
    "#### set up algorithm - lightgbm"
   ]
  },
  {
   "cell_type": "code",
   "execution_count": 21,
   "metadata": {},
   "outputs": [],
   "source": [
    "lgbr = lgb.LGBMRegressor(num_leaves = 511, learning_rate = 0.05, n_estimators = 1000)"
   ]
  },
  {
   "cell_type": "code",
   "execution_count": 22,
   "metadata": {},
   "outputs": [],
   "source": [
    "def func(x):\n",
    "    return np.log(np.absolute(x))\n",
    "def inv_func(x):\n",
    "    return np.exp(x)"
   ]
  },
  {
   "cell_type": "code",
   "execution_count": 23,
   "metadata": {},
   "outputs": [],
   "source": [
    "regr = TransformedTargetRegressor(regressor = lgbr, func = func, inverse_func = inv_func)"
   ]
  },
  {
   "cell_type": "markdown",
   "metadata": {},
   "source": [
    "#### read in and split training data"
   ]
  },
  {
   "cell_type": "code",
   "execution_count": 24,
   "metadata": {},
   "outputs": [
    {
     "name": "stdout",
     "output_type": "stream",
     "text": [
      "Number of instances: 1048574\n",
      "Number of freatues: 17\n",
      "\n",
      "<class 'pandas.core.frame.DataFrame'>\n",
      "RangeIndex: 1048574 entries, 0 to 1048573\n",
      "Data columns (total 17 columns):\n",
      "Instance                                                    1048574 non-null int64\n",
      "Year of Record                                              1044561 non-null float64\n",
      "Housing Situation                                           1048574 non-null object\n",
      "Crime Level in the City of Employement                      1048574 non-null int64\n",
      "Work Experience in Current Job [years]                      1048574 non-null object\n",
      "Satisfation with employer                                   1010487 non-null object\n",
      "Gender                                                      974447 non-null object\n",
      "Age                                                         1048574 non-null int64\n",
      "Country                                                     1048574 non-null object\n",
      "Size of City                                                1048574 non-null int64\n",
      "Profession                                                  1045721 non-null object\n",
      "University Degree                                           967974 non-null object\n",
      "Wears Glasses                                               1048574 non-null int64\n",
      "Hair Color                                                  978363 non-null object\n",
      "Body Height [cm]                                            1048574 non-null int64\n",
      "Yearly Income in addition to Salary (e.g. Rental Income)    1048574 non-null object\n",
      "Total Yearly Income [EUR]                                   1048574 non-null float64\n",
      "dtypes: float64(2), int64(6), object(9)\n",
      "memory usage: 136.0+ MB\n",
      "None\n",
      "Number of instances in training set: 996145\n",
      "Number of instances in test set: 52429\n",
      "\n"
     ]
    }
   ],
   "source": [
    "raw_data = input_data(\"tcd-ml-1920-group-income-train.csv\", printInfo = True)\n",
    "rename_columns(raw_data)\n",
    "train_set, test_set = split_data(raw_data)"
   ]
  },
  {
   "cell_type": "markdown",
   "metadata": {},
   "source": [
    "#### fit the model to training data, make predictions on training set and check error"
   ]
  },
  {
   "cell_type": "code",
   "execution_count": 25,
   "metadata": {},
   "outputs": [
    {
     "name": "stdout",
     "output_type": "stream",
     "text": [
      "Number of duplicates dropped: 134612\n",
      "Number of instances after dropping dupicated: 861533\n",
      "\n"
     ]
    }
   ],
   "source": [
    "Xtrain, Xtrain_additional = preprocess(train_set, training = True, labelled = True)\n",
    "ytrain = Xtrain['Y'].copy()\n",
    "Xtrain.drop(['Y'], axis = 1, inplace = True)"
   ]
  },
  {
   "cell_type": "code",
   "execution_count": 26,
   "metadata": {},
   "outputs": [],
   "source": [
    "#fit the model using the training data\n",
    "Xtrain_prepared = full_pipeline.fit_transform(Xtrain, ytrain)"
   ]
  },
  {
   "cell_type": "code",
   "execution_count": 27,
   "metadata": {},
   "outputs": [
    {
     "data": {
      "text/plain": [
       "TransformedTargetRegressor(check_inverse=True,\n",
       "                           func=<function func at 0x000001D585B90708>,\n",
       "                           inverse_func=<function inv_func at 0x000001D585B905E8>,\n",
       "                           regressor=LGBMRegressor(boosting_type='gbdt',\n",
       "                                                   class_weight=None,\n",
       "                                                   colsample_bytree=1.0,\n",
       "                                                   importance_type='split',\n",
       "                                                   learning_rate=0.05,\n",
       "                                                   max_depth=-1,\n",
       "                                                   min_child_samples=20,\n",
       "                                                   min_child_weight=0.001,\n",
       "                                                   min_split_gain=0.0,\n",
       "                                                   n_estimators=1000, n_jobs=-1,\n",
       "                                                   num_leaves=511,\n",
       "                                                   objective=None,\n",
       "                                                   random_state=None,\n",
       "                                                   reg_alpha=0.0,\n",
       "                                                   reg_lambda=0.0, silent=True,\n",
       "                                                   subsample=1.0,\n",
       "                                                   subsample_for_bin=200000,\n",
       "                                                   subsample_freq=0),\n",
       "                           transformer=None)"
      ]
     },
     "execution_count": 27,
     "metadata": {},
     "output_type": "execute_result"
    }
   ],
   "source": [
    "regr.fit(Xtrain_prepared, ytrain)"
   ]
  },
  {
   "cell_type": "code",
   "execution_count": 28,
   "metadata": {},
   "outputs": [],
   "source": [
    "train_predictions = regr.predict(Xtrain_prepared) + Xtrain_additional"
   ]
  },
  {
   "cell_type": "code",
   "execution_count": 29,
   "metadata": {},
   "outputs": [
    {
     "name": "stdout",
     "output_type": "stream",
     "text": [
      "7842.359039263848\n"
     ]
    }
   ],
   "source": [
    "train_mae= mean_absolute_error(ytrain + Xtrain_additional, train_predictions)\n",
    "print(train_mae)"
   ]
  },
  {
   "cell_type": "markdown",
   "metadata": {},
   "source": [
    "#### check performance on test set"
   ]
  },
  {
   "cell_type": "code",
   "execution_count": 30,
   "metadata": {},
   "outputs": [],
   "source": [
    "Xtest, Xtest_additional = preprocess(test_set, training = False, labelled = True)\n",
    "ytest = Xtest['Y'].copy()\n",
    "Xtest.drop('Y', axis=1, inplace = True)"
   ]
  },
  {
   "cell_type": "code",
   "execution_count": 31,
   "metadata": {},
   "outputs": [],
   "source": [
    "Xtest_prepared = full_pipeline.transform(Xtest)"
   ]
  },
  {
   "cell_type": "code",
   "execution_count": 32,
   "metadata": {},
   "outputs": [],
   "source": [
    "test_predictions = regr.predict(Xtest_prepared) + Xtest_additional"
   ]
  },
  {
   "cell_type": "code",
   "execution_count": 33,
   "metadata": {},
   "outputs": [
    {
     "name": "stdout",
     "output_type": "stream",
     "text": [
      "8867.022473992298\n"
     ]
    }
   ],
   "source": [
    "test_mae = mean_absolute_error(ytest + Xtest_additional, test_predictions)\n",
    "print(test_mae)"
   ]
  },
  {
   "cell_type": "markdown",
   "metadata": {},
   "source": [
    "#### make competition predictions"
   ]
  },
  {
   "cell_type": "code",
   "execution_count": null,
   "metadata": {},
   "outputs": [],
   "source": [
    "Xcomp = input_data(\"tcd-ml-1920-group-income-test.csv\", printInfo = True)\n",
    "rename_columns(Xcomp)"
   ]
  },
  {
   "cell_type": "code",
   "execution_count": null,
   "metadata": {},
   "outputs": [],
   "source": [
    "Xcomp_prepared, Xcomp_additional = preprocess(Xcomp)\n",
    "Xcomp_prepared = full_pipeline.transform(Xcomp_prepared)"
   ]
  },
  {
   "cell_type": "code",
   "execution_count": null,
   "metadata": {},
   "outputs": [],
   "source": [
    "comp_predictions = regr.predict(Xcomp_prepared) + Xcomp_additional"
   ]
  },
  {
   "cell_type": "code",
   "execution_count": null,
   "metadata": {},
   "outputs": [],
   "source": [
    "Xcomp['Y'] = comp_predictions\n",
    "Xcomp.to_csv(r\"predictions.csv\")"
   ]
  }
 ],
 "metadata": {
  "kernelspec": {
   "display_name": "Python 3",
   "language": "python",
   "name": "python3"
  },
  "language_info": {
   "codemirror_mode": {
    "name": "ipython",
    "version": 3
   },
   "file_extension": ".py",
   "mimetype": "text/x-python",
   "name": "python",
   "nbconvert_exporter": "python",
   "pygments_lexer": "ipython3",
   "version": "3.7.4"
  }
 },
 "nbformat": 4,
 "nbformat_minor": 2
}
